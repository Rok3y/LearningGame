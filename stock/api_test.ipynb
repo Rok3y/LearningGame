{
 "cells": [
  {
   "cell_type": "code",
   "execution_count": 109,
   "metadata": {},
   "outputs": [],
   "source": [
    "import yahoo_fin.stock_info as si\n",
    "import datetime\n",
    "import pandas as pd\n",
    "import yfinance as yf\n",
    "from bs4 import BeautifulSoup\n"
   ]
  },
  {
   "cell_type": "code",
   "execution_count": 119,
   "metadata": {},
   "outputs": [
    {
     "data": {
      "text/plain": [
       "'aapl'"
      ]
     },
     "execution_count": 119,
     "metadata": {},
     "output_type": "execute_result"
    }
   ],
   "source": [
    "tickers_list = [\"aapl\", \"goog\", \"amzn\", \"BAC\", \"BA\"]\n",
    "tickers_list[0]"
   ]
  },
  {
   "cell_type": "code",
   "execution_count": 126,
   "metadata": {},
   "outputs": [
    {
     "data": {
      "text/plain": [
       "132"
      ]
     },
     "execution_count": 126,
     "metadata": {},
     "output_type": "execute_result"
    }
   ],
   "source": [
    "stock = yf.Ticker(tickers_list[0])\n",
    "len(stock.info.keys())"
   ]
  },
  {
   "cell_type": "code",
   "execution_count": 129,
   "metadata": {},
   "outputs": [
    {
     "name": "stdout",
     "output_type": "stream",
     "text": [
      "2024-04-13\n"
     ]
    },
    {
     "name": "stderr",
     "output_type": "stream",
     "text": [
      "AAPL: Invalid input - start date cannot be after end date. startDate = 1712980800, endDate = 1712929450\n"
     ]
    },
    {
     "data": {
      "text/plain": [
       "{'Open': {}, 'High': {}, 'Low': {}, 'Close': {}, 'Adj Close': {}, 'Volume': {}}"
      ]
     },
     "execution_count": 129,
     "metadata": {},
     "output_type": "execute_result"
    }
   ],
   "source": [
    "from datetime import timedelta\n",
    "date_now = datetime.datetime.now() + timedelta(days=1)\n",
    "print(date_now.strftime('%Y-%m-%d'))\n",
    "history_data_dict = stock.history(start=date_now.strftime('%Y-%m-%d'), interval=\"1d\").to_dict()\n",
    "history_data_dict"
   ]
  },
  {
   "cell_type": "code",
   "execution_count": 135,
   "metadata": {},
   "outputs": [
    {
     "name": "stdout",
     "output_type": "stream",
     "text": [
      "2024-04-12 15:50:40\n"
     ]
    }
   ],
   "source": [
    "# convert timestamp value to date\n",
    "timestampe = 1712929840\n",
    "date = datetime.datetime.fromtimestamp(timestampe)\n",
    "print(date.strftime('%Y-%m-%d %H:%M:%S'))"
   ]
  },
  {
   "cell_type": "code",
   "execution_count": 144,
   "metadata": {},
   "outputs": [
    {
     "data": {
      "text/plain": [
       "132"
      ]
     },
     "execution_count": 144,
     "metadata": {},
     "output_type": "execute_result"
    }
   ],
   "source": [
    "abt = yf.Ticker(\"AAPL\")\n",
    "len(abt.info.keys())"
   ]
  },
  {
   "cell_type": "code",
   "execution_count": 145,
   "metadata": {},
   "outputs": [
    {
     "name": "stderr",
     "output_type": "stream",
     "text": [
      "404 Client Error: Not Found for url: https://query2.finance.yahoo.com/v10/finance/quoteSummary/IHC.AE?modules=financialData%2CquoteType%2CdefaultKeyStatistics%2CassetProfile%2CsummaryDetail&corsDomain=finance.yahoo.com&formatted=false&symbol=IHC.AE&crumb=gmCkGweaJCs\n"
     ]
    },
    {
     "data": {
      "text/plain": [
       "1"
      ]
     },
     "execution_count": 145,
     "metadata": {},
     "output_type": "execute_result"
    }
   ],
   "source": [
    "\n",
    "abt = yf.Ticker(\"IHC.AE\")\n",
    "len(abt.info.keys())"
   ]
  },
  {
   "cell_type": "code",
   "execution_count": 136,
   "metadata": {},
   "outputs": [
    {
     "name": "stdout",
     "output_type": "stream",
     "text": [
      "1\n"
     ]
    },
    {
     "data": {
      "text/html": [
       "<div>\n",
       "<style scoped>\n",
       "    .dataframe tbody tr th:only-of-type {\n",
       "        vertical-align: middle;\n",
       "    }\n",
       "\n",
       "    .dataframe tbody tr th {\n",
       "        vertical-align: top;\n",
       "    }\n",
       "\n",
       "    .dataframe thead th {\n",
       "        text-align: right;\n",
       "    }\n",
       "</style>\n",
       "<table border=\"1\" class=\"dataframe\">\n",
       "  <thead>\n",
       "    <tr style=\"text-align: right;\">\n",
       "      <th></th>\n",
       "      <th>Open</th>\n",
       "      <th>High</th>\n",
       "      <th>Low</th>\n",
       "      <th>Close</th>\n",
       "      <th>Volume</th>\n",
       "      <th>Dividends</th>\n",
       "      <th>Stock Splits</th>\n",
       "    </tr>\n",
       "    <tr>\n",
       "      <th>Date</th>\n",
       "      <th></th>\n",
       "      <th></th>\n",
       "      <th></th>\n",
       "      <th></th>\n",
       "      <th></th>\n",
       "      <th></th>\n",
       "      <th></th>\n",
       "    </tr>\n",
       "  </thead>\n",
       "  <tbody>\n",
       "    <tr>\n",
       "      <th>2024-04-12 00:00:00-04:00</th>\n",
       "      <td>159.5</td>\n",
       "      <td>161.423996</td>\n",
       "      <td>159.460007</td>\n",
       "      <td>161.300003</td>\n",
       "      <td>2484909</td>\n",
       "      <td>0.0</td>\n",
       "      <td>0.0</td>\n",
       "    </tr>\n",
       "  </tbody>\n",
       "</table>\n",
       "</div>"
      ],
      "text/plain": [
       "                            Open        High         Low       Close   Volume  \\\n",
       "Date                                                                            \n",
       "2024-04-12 00:00:00-04:00  159.5  161.423996  159.460007  161.300003  2484909   \n",
       "\n",
       "                           Dividends  Stock Splits  \n",
       "Date                                                \n",
       "2024-04-12 00:00:00-04:00        0.0           0.0  "
      ]
     },
     "execution_count": 136,
     "metadata": {},
     "output_type": "execute_result"
    }
   ],
   "source": [
    "\n",
    "    # Market cap example\n",
    "aapl = yf.Ticker(\"GOOG\")\n",
    "date_now = datetime.datetime.now()\n",
    "aapl_historical_day = aapl.history(start=date_now.strftime('%Y-%m-%d'), interval=\"1d\")\n",
    "# aapl_historical_hour = aapl.history(period=\"max\", interval=\"1h\")\n",
    "# aapl_historical_week = aapl.history(period=\"max\", interval=\"1wk\")\n",
    "# print(len(aapl_historical_hour))\n",
    "print(len(aapl_historical_day))\n",
    "# print(len(aapl_historical_week))\n",
    "aapl_historical_day.tail(1)\n"
   ]
  },
  {
   "cell_type": "code",
   "execution_count": null,
   "metadata": {},
   "outputs": [],
   "source": []
  },
  {
   "cell_type": "code",
   "execution_count": 101,
   "metadata": {},
   "outputs": [
    {
     "name": "stdout",
     "output_type": "stream",
     "text": [
      "18\n",
      "2024-03-11 00:00:00\n",
      "2024-03-12 00:00:00\n",
      "2024-03-13 00:00:00\n",
      "2024-03-14 00:00:00\n",
      "2024-03-15 00:00:00\n",
      "2024-03-18 00:00:00\n",
      "2024-03-19 00:00:00\n",
      "2024-03-20 00:00:00\n",
      "2024-03-21 00:00:00\n",
      "2024-03-22 00:00:00\n",
      "2024-03-25 00:00:00\n",
      "2024-03-26 00:00:00\n",
      "2024-03-27 00:00:00\n",
      "2024-03-28 00:00:00\n",
      "2024-04-01 00:00:00\n",
      "2024-04-02 00:00:00\n",
      "2024-04-03 00:00:00\n",
      "2024-04-04 00:00:00\n"
     ]
    }
   ],
   "source": [
    "# Re-importing datetime for parsing date strings\n",
    "from datetime import datetime, timedelta\n",
    "\n",
    "aapl = yf.Ticker(\"AAPL\")\n",
    "# Sample history dictionary\n",
    "history_dict = aapl.history(period=\"1mo\", interval=\"1d\").to_dict()\n",
    "\n",
    "# Reorganizing the data into the desired list format\n",
    "history_data_list = []\n",
    "\n",
    "# Since each key has the same dates, we can iterate through one and use its dates\n",
    "for date in history_dict['Open']:\n",
    "    # Build the dictionary for each date\n",
    "    #print(date.strftime('%Y-%m-%d %H:%M:%S'))\n",
    "    data_entry = {\n",
    "        \"Date\": date.strftime('%Y-%m-%d %H:%M:%S'),\n",
    "        \"Open\": history_dict['Open'].get(date),\n",
    "        \"High\": history_dict['High'].get(date),\n",
    "        \"Low\": history_dict['Low'].get(date),\n",
    "        \"Close\": history_dict['Close'].get(date),\n",
    "        \"Volume\": history_dict['Volume'].get(date),\n",
    "        \"Dividends\": history_dict['Dividends'].get(date),\n",
    "        \"Stock Splits\": history_dict['Stock Splits'].get(date)\n",
    "    }\n",
    "    history_data_list.append(data_entry)\n",
    "\n",
    "history_data_list.pop(-1)\n",
    "history_data_list.pop(-1)\n",
    "history_data_list.pop(-1)\n",
    "history_data_list.pop(-1)\n",
    "print(len(history_data_list))\n",
    "\n",
    "# print only dates\n",
    "for entry in history_data_list:\n",
    "    print(entry['Date'])\n",
    "\n"
   ]
  },
  {
   "cell_type": "code",
   "execution_count": 107,
   "metadata": {},
   "outputs": [
    {
     "data": {
      "text/plain": [
       "False"
      ]
     },
     "execution_count": 107,
     "metadata": {},
     "output_type": "execute_result"
    }
   ],
   "source": [
    "company_dict = {\n",
    "        \"_id\": \"2323dsf32\",\n",
    "        'ticker': \"ticker\",\n",
    "        'info': {},\n",
    "        'history': []\n",
    "    }\n",
    "\n",
    "expected_company_keys = {'_id', 'ticker', 'history', 'schema'}\n",
    "set(company_dict.keys()) == expected_company_keys"
   ]
  }
 ],
 "metadata": {
  "kernelspec": {
   "display_name": "Python 3",
   "language": "python",
   "name": "python3"
  },
  "language_info": {
   "codemirror_mode": {
    "name": "ipython",
    "version": 3
   },
   "file_extension": ".py",
   "mimetype": "text/x-python",
   "name": "python",
   "nbconvert_exporter": "python",
   "pygments_lexer": "ipython3",
   "version": "3.12.2"
  }
 },
 "nbformat": 4,
 "nbformat_minor": 2
}
