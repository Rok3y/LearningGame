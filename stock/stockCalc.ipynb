{
 "cells": [
  {
   "cell_type": "code",
   "execution_count": 9,
   "metadata": {},
   "outputs": [],
   "source": [
    "import numpy as np\n",
    "from scipy.stats import norm"
   ]
  },
  {
   "cell_type": "code",
   "execution_count": 66,
   "metadata": {},
   "outputs": [],
   "source": [
    "class Stock:\n",
    "    '''\n",
    "    A class to represent a stock\n",
    "    '''\n",
    "    def __init__(self, name, price, dividendYieldPercent):\n",
    "        '''\n",
    "        name: Name of a stock\n",
    "        price: Price of a stock\n",
    "        dividendYieldPercent: Dividend yield percent of a stock\n",
    "\n",
    "        '''\n",
    "        self.name = name\n",
    "        self.price = price\n",
    "        self.dividendYieldPercent = dividendYieldPercent\n",
    "\n",
    "    def __str__(self):\n",
    "        return f\"{self.name}: {self.price}; \\n\\t\\tdividend yield {self.dividendYieldPercent}\"\n",
    "    \n",
    "    def dividend_yield(self):\n",
    "        return self.price * (self.dividendYieldPercent / 100)\n"
   ]
  },
  {
   "cell_type": "code",
   "execution_count": null,
   "metadata": {},
   "outputs": [],
   "source": []
  },
  {
   "cell_type": "code",
   "execution_count": 71,
   "metadata": {},
   "outputs": [],
   "source": [
    "class Invest:\n",
    "    '''\n",
    "    A class to represent an investment\n",
    "    '''\n",
    "    def __init__(self, investment: float, stock: Stock, numOfYieldPerYear: int = 4):\n",
    "        self.investment = investment\n",
    "        self.stock = stock\n",
    "        self.numOfStocks = self.stockPerInvest()\n",
    "        self.numOfYieldPerYear = numOfYieldPerYear\n",
    "    \n",
    "    def stockPerInvest(self) -> float:\n",
    "        return self.investment / self.stock.price\n",
    "    \n",
    "    def dividendPerInvest(self) -> float:\n",
    "        return self.stockPerInvest() * self.stock.dividend_yield()\n",
    "    \n",
    "    def yieldPerYear(self) -> float:\n",
    "        return self.dividendPerInvest() * self.numOfYieldPerYear\n",
    "    \n",
    "    def __str__(self):\n",
    "        return f\"investment: {self.investment}; \\nstock: \\n\\t{self.stock.name}: {self.stock.price} \\n\\tdividend yield: {self.stock.dividendYieldPercent}; \\nnumOfStocks: {self.numOfStocks}; \\ndividendCashOutPerYear: {self.yieldPerYear()}\"\n",
    "    "
   ]
  },
  {
   "cell_type": "code",
   "execution_count": 72,
   "metadata": {},
   "outputs": [
    {
     "name": "stdout",
     "output_type": "stream",
     "text": [
      "investment: 1000; \n",
      "stock: \n",
      "\tAAPL: 182.52 \n",
      "\tdividend yield: 0.53; \n",
      "numOfStocks: 5.478851632697786; \n",
      "dividendCashOutPerYear: 21.200000000000003\n"
     ]
    }
   ],
   "source": [
    "invest = 1000\n",
    "\n",
    "AAPL = Stock('AAPL', 182.52, 0.53)\n",
    "\n",
    "AAPLInvest = Invest(invest, AAPL)\n",
    "print(AAPLInvest.__str__())\n"
   ]
  },
  {
   "cell_type": "code",
   "execution_count": null,
   "metadata": {},
   "outputs": [],
   "source": []
  },
  {
   "cell_type": "code",
   "execution_count": 21,
   "metadata": {},
   "outputs": [
    {
     "data": {
      "text/plain": [
       "8.021352235143176"
      ]
     },
     "execution_count": 21,
     "metadata": {},
     "output_type": "execute_result"
    }
   ],
   "source": [
    "# Black Scholes\n",
    "# https://www.investopedia.com/terms/b/blackscholes.asp\n",
    "\n",
    "from scipy.stats import norm\n",
    "import numpy as np\n",
    "\n",
    "# Given parameters\n",
    "S = 100  # Current stock price\n",
    "K = 105  # Strike price\n",
    "T = 1  # Time to expiration in years\n",
    "r = 0.05  # Risk-free rate\n",
    "sigma = 0.20  # Volatility\n",
    "\n",
    "# Calculating d1 and d2\n",
    "d1 = (np.log(S / K) + (r + sigma ** 2 / 2) * T) / (sigma * np.sqrt(T))\n",
    "d2 = d1 - sigma * np.sqrt(T)\n",
    "\n",
    "# Calculating the call option price\n",
    "C = S * norm.cdf(d1) - K * np.exp(-r * T) * norm.cdf(d2)\n",
    "\n",
    "C\n"
   ]
  },
  {
   "cell_type": "code",
   "execution_count": 23,
   "metadata": {},
   "outputs": [],
   "source": [
    "def blackScholes(S, K, T, r, sigma, option='call'):\n",
    "    '''\n",
    "    S: Current stock price\n",
    "    K: Strike price\n",
    "    T: Time to expiration in years\n",
    "    r: Risk-free rate\n",
    "    sigma: Volatility\n",
    "    option: 'call' or 'put'\n",
    "    '''\n",
    "    # Calculating d1 and d2\n",
    "    d1 = (np.log(S / K) + (r + sigma ** 2 / 2) * T) / (sigma * np.sqrt(T))\n",
    "    d2 = d1 - sigma * np.sqrt(T)\n",
    "\n",
    "    # Calculating the call option price\n",
    "    C = S * norm.cdf(d1) - K * np.exp(-r * T) * norm.cdf(d2)\n",
    "    return C"
   ]
  },
  {
   "cell_type": "code",
   "execution_count": 24,
   "metadata": {},
   "outputs": [
    {
     "data": {
      "text/plain": [
       "8.021352235143176"
      ]
     },
     "execution_count": 24,
     "metadata": {},
     "output_type": "execute_result"
    }
   ],
   "source": [
    "res = blackScholes(S, K, T, r, sigma, option='call')\n",
    "res"
   ]
  },
  {
   "cell_type": "code",
   "execution_count": 26,
   "metadata": {},
   "outputs": [
    {
     "data": {
      "text/plain": [
       "11.300228468890921"
      ]
     },
     "execution_count": 26,
     "metadata": {},
     "output_type": "execute_result"
    }
   ],
   "source": [
    "# Example with AAPL\n",
    "# Given parameters\n",
    "S = 182.52  # Current stock price\n",
    "K = 200  # Strike price\n",
    "T = 1  # Time to expiration in years\n",
    "r = 0.05  # Risk-free rate\n",
    "sigma = 0.20  # Volatility\n",
    "\n",
    "aapl_option = blackScholes(S, K, T, r, sigma, option='call')\n",
    "aapl_option"
   ]
  },
  {
   "cell_type": "code",
   "execution_count": null,
   "metadata": {},
   "outputs": [],
   "source": []
  },
  {
   "cell_type": "code",
   "execution_count": null,
   "metadata": {},
   "outputs": [],
   "source": []
  }
 ],
 "metadata": {
  "kernelspec": {
   "display_name": "Python 3",
   "language": "python",
   "name": "python3"
  },
  "language_info": {
   "codemirror_mode": {
    "name": "ipython",
    "version": 3
   },
   "file_extension": ".py",
   "mimetype": "text/x-python",
   "name": "python",
   "nbconvert_exporter": "python",
   "pygments_lexer": "ipython3",
   "version": "3.12.1"
  }
 },
 "nbformat": 4,
 "nbformat_minor": 2
}
